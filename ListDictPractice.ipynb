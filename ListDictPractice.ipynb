{
  "nbformat": 4,
  "nbformat_minor": 0,
  "metadata": {
    "colab": {
      "name": "ListDictPractice.ipynb",
      "provenance": [],
      "authorship_tag": "ABX9TyMdvxZa3edPUl1I1UvQEQmR",
      "include_colab_link": true
    },
    "kernelspec": {
      "name": "python3",
      "display_name": "Python 3"
    },
    "language_info": {
      "name": "python"
    }
  },
  "cells": [
    {
      "cell_type": "markdown",
      "metadata": {
        "id": "view-in-github",
        "colab_type": "text"
      },
      "source": [
        "<a href=\"https://colab.research.google.com/github/cr21/PythonGist/blob/main/ListDictPractice.ipynb\" target=\"_parent\"><img src=\"https://colab.research.google.com/assets/colab-badge.svg\" alt=\"Open In Colab\"/></a>"
      ]
    },
    {
      "cell_type": "markdown",
      "metadata": {
        "id": "J5AraJBscyjG"
      },
      "source": [
        "\n",
        "\n",
        "### https://www.reddit.com/r/itversity/comments/orao9n/python_technical_test_get_list_of_beginner_courses/"
      ]
    },
    {
      "cell_type": "markdown",
      "metadata": {
        "id": "fMLuu4n7i86W"
      },
      "source": [
        "We will provide course data which will be of type list of dicts.\n",
        "\n",
        "Get the courses which are suitable for Beginners - suitable_for should be equal to Beginner.\n",
        "\n",
        "\n",
        "\n",
        "Data should be sorted in descending order by number_of_ratings.\n",
        "\n",
        "Here is the data provided below in the form of a list of dicts."
      ]
    },
    {
      "cell_type": "code",
      "metadata": {
        "id": "q3xLEskQcQ6S"
      },
      "source": [
        "courses = [{'course_id': 1,\n",
        "  'course_name': '2020 Complete Python Bootcamp: From Zero to Hero in Python',\n",
        "  'suitable_for': 'Beginner',\n",
        "  'enrollment': 1100093,\n",
        "  'stars': 4.6,\n",
        "  'number_of_ratings': 318066},\n",
        " {'course_id': 4,\n",
        "  'course_name': 'Angular - The Complete Guide (2020 Edition)',\n",
        "  'suitable_for': 'Intermediate',\n",
        "  'enrollment': 422557,\n",
        "  'stars': 4.6,\n",
        "  'number_of_ratings': 129984},\n",
        " {'course_id': 12,\n",
        "  'course_name': 'Automate the Boring Stuff with Python Programming',\n",
        "  'suitable_for': 'Advanced',\n",
        "  'enrollment': 692617,\n",
        "  'stars': 4.6,\n",
        "  'number_of_ratings': 70508},\n",
        " {'course_id': 10,\n",
        "  'course_name': 'Complete C# Unity Game Developer 2D',\n",
        "  'suitable_for': 'Advanced',\n",
        "  'enrollment': 364934,\n",
        "  'stars': 4.6,\n",
        "  'number_of_ratings': 78989},\n",
        " {'course_id': 5,\n",
        "  'course_name': 'Java Programming Masterclass for Software Developers',\n",
        "  'suitable_for': 'Advanced',\n",
        "  'enrollment': 502572,\n",
        "  'stars': 4.6,\n",
        "  'number_of_ratings': 123798},\n",
        " {'course_id': 15,\n",
        "  'course_name': 'Learn Python Programming Masterclass',\n",
        "  'suitable_for': 'Advanced',\n",
        "  'enrollment': 240790,\n",
        "  'stars': 4.5,\n",
        "  'number_of_ratings': 58677},\n",
        " {'course_id': 3,\n",
        "  'course_name': 'Machine Learning A-Z™: Hands-On Python & R In Data Science',\n",
        "  'suitable_for': 'Intermediate',\n",
        "  'enrollment': 692812,\n",
        "  'stars': 4.5,\n",
        "  'number_of_ratings': 132228},\n",
        " {'course_id': 14,\n",
        "  'course_name': 'Modern React with Redux [2020 Update]',\n",
        "  'suitable_for': 'Intermediate',\n",
        "  'enrollment': 203214,\n",
        "  'stars': 4.7,\n",
        "  'number_of_ratings': 60835},\n",
        " {'course_id': 8,\n",
        "  'course_name': 'Python for Data Science and Machine Learning Bootcamp',\n",
        "  'suitable_for': 'Intermediate',\n",
        "  'enrollment': 387789,\n",
        "  'stars': 4.6,\n",
        "  'number_of_ratings': 87403},\n",
        " {'course_id': 6,\n",
        "  'course_name': 'React - The Complete Guide (incl Hooks, React Router, Redux)',\n",
        "  'suitable_for': 'Intermediate',\n",
        "  'enrollment': 304670,\n",
        "  'stars': 4.6,\n",
        "  'number_of_ratings': 90964},\n",
        " {'course_id': 18,\n",
        "  'course_name': 'Selenium WebDriver with Java -Basics to Advanced+Frameworks',\n",
        "  'suitable_for': 'Advanced',\n",
        "  'enrollment': 148562,\n",
        "  'stars': 4.6,\n",
        "  'number_of_ratings': 49947},\n",
        " {'course_id': 21,\n",
        "  'course_name': 'Spring & Hibernate for Beginners (includes Spring Boot)',\n",
        "  'suitable_for': 'Advanced',\n",
        "  'enrollment': 177053,\n",
        "  'stars': 4.6,\n",
        "  'number_of_ratings': 45329},\n",
        " {'course_id': 7,\n",
        "  'course_name': 'The Complete 2020 Web Development Bootcamp',\n",
        "  'suitable_for': 'Beginner',\n",
        "  'enrollment': 270656,\n",
        "  'stars': 4.7,\n",
        "  'number_of_ratings': 88098},\n",
        " {'course_id': 9,\n",
        "  'course_name': 'The Complete JavaScript Course 2020: Build Real Projects!',\n",
        "  'suitable_for': 'Intermediate',\n",
        "  'enrollment': 347979,\n",
        "  'stars': 4.6,\n",
        "  'number_of_ratings': 83521},\n",
        " {'course_id': 16,\n",
        "  'course_name': 'The Complete Node.js Developer Course (3rd Edition)',\n",
        "  'suitable_for': 'Advanced',\n",
        "  'enrollment': 202922,\n",
        "  'stars': 4.7,\n",
        "  'number_of_ratings': 50885},\n",
        " {'course_id': 13,\n",
        "  'course_name': 'The Complete Web Developer Course 2.0',\n",
        "  'suitable_for': 'Intermediate',\n",
        "  'enrollment': 273598,\n",
        "  'stars': 4.5,\n",
        "  'number_of_ratings': 63175},\n",
        " {'course_id': 11,\n",
        "  'course_name': 'The Data Science Course 2020: Complete Data Science Bootcamp',\n",
        "  'suitable_for': 'Beginner',\n",
        "  'enrollment': 325047,\n",
        "  'stars': 4.5,\n",
        "  'number_of_ratings': 76907},\n",
        " {'course_id': 20,\n",
        "  'course_name': 'The Ultimate MySQL Bootcamp: Go from SQL Beginner to Expert',\n",
        "  'suitable_for': 'Beginner',\n",
        "  'enrollment': 203366,\n",
        "  'stars': 4.6,\n",
        "  'number_of_ratings': 45382},\n",
        " {'course_id': 2,\n",
        "  'course_name': 'The Web Developer Bootcamp',\n",
        "  'suitable_for': 'Beginner',\n",
        "  'enrollment': 596726,\n",
        "  'stars': 4.6,\n",
        "  'number_of_ratings': 182997},\n",
        " {'course_id': 19,\n",
        "  'course_name': 'Unreal Engine C++ Developer: Learn C++ and Make Video Games',\n",
        "  'suitable_for': 'Advanced',\n",
        "  'enrollment': 229005,\n",
        "  'stars': 4.5,\n",
        "  'number_of_ratings': 45860},\n",
        " {'course_id': 17,\n",
        "  'course_name': 'iOS 13 & Swift 5 - The Complete iOS App Development Bootcamp',\n",
        "  'suitable_for': 'Advanced',\n",
        "  'enrollment': 179598,\n",
        "  'stars': 4.8,\n",
        "  'number_of_ratings': 49972}]\n"
      ],
      "execution_count": null,
      "outputs": []
    },
    {
      "cell_type": "code",
      "metadata": {
        "colab": {
          "base_uri": "https://localhost:8080/"
        },
        "id": "DbtaZtQocbA3",
        "outputId": "87c807c4-6e1c-46bf-a27f-67e6e881d650"
      },
      "source": [
        "courses\n",
        "type(courses)\n",
        "len(courses)\n",
        "for course in courses[0].items():\n",
        "    print(f'The type of value {course[1]} with attribute {course[0]} is {type(course[1])}')"
      ],
      "execution_count": null,
      "outputs": [
        {
          "output_type": "stream",
          "text": [
            "The type of value 1 with attribute course_id is <class 'int'>\n",
            "The type of value 2020 Complete Python Bootcamp: From Zero to Hero in Python with attribute course_name is <class 'str'>\n",
            "The type of value Beginner with attribute suitable_for is <class 'str'>\n",
            "The type of value 1100093 with attribute enrollment is <class 'int'>\n",
            "The type of value 4.6 with attribute stars is <class 'float'>\n",
            "The type of value 318066 with attribute number_of_ratings is <class 'int'>\n"
          ],
          "name": "stdout"
        }
      ]
    },
    {
      "cell_type": "code",
      "metadata": {
        "id": "vGMKDHdIcgSl"
      },
      "source": [
        "# The logic should go here\n",
        "def get_courses_for_beginners(course_data):\n",
        "    courses_for_beginners=[]\n",
        "    for course in course_data:\n",
        "      if 'suitable_for' in course and course['suitable_for'] =='Beginner':\n",
        "        courses_for_beginners.append(course)\n",
        "\n",
        "    return sorted(courses_for_beginners, key= lambda i : i['number_of_ratings'], reverse=True)"
      ],
      "execution_count": null,
      "outputs": []
    },
    {
      "cell_type": "code",
      "metadata": {
        "colab": {
          "base_uri": "https://localhost:8080/"
        },
        "id": "4LTRrHUEkFSY",
        "outputId": "b42dbf8d-72f7-4b89-8ad7-2396c2f167f9"
      },
      "source": [
        "courses_for_beginners = get_courses_for_beginners(courses)\n",
        "courses_for_beginners"
      ],
      "execution_count": null,
      "outputs": [
        {
          "output_type": "execute_result",
          "data": {
            "text/plain": [
              "[{'course_id': 1,\n",
              "  'course_name': '2020 Complete Python Bootcamp: From Zero to Hero in Python',\n",
              "  'enrollment': 1100093,\n",
              "  'number_of_ratings': 318066,\n",
              "  'stars': 4.6,\n",
              "  'suitable_for': 'Beginner'},\n",
              " {'course_id': 2,\n",
              "  'course_name': 'The Web Developer Bootcamp',\n",
              "  'enrollment': 596726,\n",
              "  'number_of_ratings': 182997,\n",
              "  'stars': 4.6,\n",
              "  'suitable_for': 'Beginner'},\n",
              " {'course_id': 7,\n",
              "  'course_name': 'The Complete 2020 Web Development Bootcamp',\n",
              "  'enrollment': 270656,\n",
              "  'number_of_ratings': 88098,\n",
              "  'stars': 4.7,\n",
              "  'suitable_for': 'Beginner'},\n",
              " {'course_id': 11,\n",
              "  'course_name': 'The Data Science Course 2020: Complete Data Science Bootcamp',\n",
              "  'enrollment': 325047,\n",
              "  'number_of_ratings': 76907,\n",
              "  'stars': 4.5,\n",
              "  'suitable_for': 'Beginner'},\n",
              " {'course_id': 20,\n",
              "  'course_name': 'The Ultimate MySQL Bootcamp: Go from SQL Beginner to Expert',\n",
              "  'enrollment': 203366,\n",
              "  'number_of_ratings': 45382,\n",
              "  'stars': 4.6,\n",
              "  'suitable_for': 'Beginner'}]"
            ]
          },
          "metadata": {
            "tags": []
          },
          "execution_count": 20
        }
      ]
    },
    {
      "cell_type": "code",
      "metadata": {
        "colab": {
          "base_uri": "https://localhost:8080/"
        },
        "id": "mgGJ8KJHcnVW",
        "outputId": "3b34266d-b10b-4b5b-fe31-315ab7324768"
      },
      "source": [
        "courses_for_beginners = get_courses_for_beginners(courses)\n",
        "print(type(courses_for_beginners)) # It should be list\n",
        "print(len(courses_for_beginners) )# It should be 5\n",
        "print(type(courses_for_beginners[0])) # It should be dict."
      ],
      "execution_count": null,
      "outputs": [
        {
          "output_type": "stream",
          "text": [
            "<class 'list'>\n",
            "5\n",
            "<class 'dict'>\n"
          ],
          "name": "stdout"
        }
      ]
    },
    {
      "cell_type": "code",
      "metadata": {
        "id": "IMkUJNs5cu5z"
      },
      "source": [
        "\n",
        "res=[{'course_id': 1,\n",
        "  'course_name': '2020 Complete Python Bootcamp: From Zero to Hero in Python',\n",
        "  'suitable_for': 'Beginner',\n",
        "  'enrollment': 1100093,\n",
        "  'stars': 4.6,\n",
        "  'number_of_ratings': 318066},\n",
        " {'course_id': 2,\n",
        "  'course_name': 'The Web Developer Bootcamp',\n",
        "  'suitable_for': 'Beginner',\n",
        "  'enrollment': 596726,\n",
        "  'stars': 4.6,\n",
        "  'number_of_ratings': 182997},\n",
        " {'course_id': 7,\n",
        "  'course_name': 'The Complete 2020 Web Development Bootcamp',\n",
        "  'suitable_for': 'Beginner',\n",
        "  'enrollment': 270656,\n",
        "  'stars': 4.7,\n",
        "  'number_of_ratings': 88098},\n",
        " {'course_id': 11,\n",
        "  'course_name': 'The Data Science Course 2020: Complete Data Science Bootcamp',\n",
        "  'suitable_for': 'Beginner',\n",
        "  'enrollment': 325047,\n",
        "  'stars': 4.5,\n",
        "  'number_of_ratings': 76907},\n",
        " {'course_id': 20,\n",
        "  'course_name': 'The Ultimate MySQL Bootcamp: Go from SQL Beginner to Expert',\n",
        "  'suitable_for': 'Beginner',\n",
        "  'enrollment': 203366,\n",
        "  'stars': 4.6,\n",
        "  'number_of_ratings': 45382}]"
      ],
      "execution_count": null,
      "outputs": []
    },
    {
      "cell_type": "code",
      "metadata": {
        "colab": {
          "base_uri": "https://localhost:8080/"
        },
        "id": "iLy9eUpvlp0o",
        "outputId": "e2b46185-a7d2-429b-c012-506e83980d3e"
      },
      "source": [
        "print(res == courses_for_beginners )"
      ],
      "execution_count": null,
      "outputs": [
        {
          "output_type": "stream",
          "text": [
            "True\n"
          ],
          "name": "stdout"
        }
      ]
    }
  ]
}